{
 "metadata": {
  "kernelspec": {
   "display_name": "Streamlit Notebook",
   "name": "streamlit"
  },
  "lastEditStatus": {
   "notebookId": "n6zipe64rgvu2rntb2yz",
   "authorId": "6029156996511",
   "authorName": "YITAGAKI",
   "authorEmail": "yota.itagaki@snowflake.com",
   "sessionId": "2df1e296-774a-4f06-9db3-7c26887f443b",
   "lastEditTime": 1756460577255
  }
 },
 "nbformat_minor": 5,
 "nbformat": 4,
 "cells": [
  {
   "cell_type": "markdown",
   "id": "386059ea-e246-4948-82ca-f77f1369d5a1",
   "metadata": {
    "collapsed": false,
    "name": "start",
    "resultHeight": 119
   },
   "source": "# はじめに\n- 「開始」ボタンを押す前に「パッケージ」から`snowflake-ml-python`をインストールしてください。"
  },
  {
   "cell_type": "markdown",
   "id": "b8754222-2f3e-45e7-b4c9-b2d71bd1c299",
   "metadata": {
    "name": "scenario",
    "collapsed": false
   },
   "source": "# シナリオ\n### 0. AISQL を理解する\n\n### 1. LLM の機能を試す\n- AISQL を理解する\n- 保険金請求書のデータを構造化データへ変換\n\n### 2. AI Agent を使った分析\n- ドライバー保険の約款データを使ったRAGの構築\n- Text-to-SQLで自動車保険ビジネスにおける様々な部門の課題解決に直結するインサイトの提供\n\n![img](https://lh3.googleusercontent.com/pw/AP1GczMikDMAcJEUxHgauOMoz9HeWhkEZ7fNQJMwirKG6QssMOipCC8Z5GRLdnLAyuMlsfXug71vAcIZFHDaYUMaNHtyaO35aKZTuC9_WPsgIBk6msbvk-U3hs5sKPSGCw7i3oBUeHC4rFDoNRvKCdxXqy4M=w1602-h900-s-no-gm?authuser=0)"
  },
  {
   "cell_type": "markdown",
   "id": "cb4d5102-b87e-4f4a-84ee-95f4d1fcad10",
   "metadata": {
    "name": "AISQL",
    "collapsed": false
   },
   "source": "## 0. AISQL を理解する\n\n![img](https://lh3.googleusercontent.com/pw/AP1GczPEstMLsFYzhztvUUHigYdBALM3BDLmvKUQKWDMmCQKuebzruOhKZpKoZeMH1kcoVBil8SUwscciE4_z4AtPx6UrRPwfLt6nhJUS1Lg-q8arZy_TAW6-ZYLdGplQedh7XQxLIgcfYobF6Lk8jLAcn10=w1149-h646-s-no-gm?authuser=0)"
  },
  {
   "cell_type": "markdown",
   "id": "d4452294-9fa8-4443-941e-9e5fd8cb8aa4",
   "metadata": {
    "name": "cell3",
    "collapsed": false
   },
   "source": "SQL で AI_COMPLETE 関数を試す"
  },
  {
   "cell_type": "code",
   "id": "db2ad880-a01f-4ce7-895b-f8b1a45e5fdd",
   "metadata": {
    "language": "sql",
    "name": "_0_1",
    "collapsed": false
   },
   "outputs": [],
   "source": "-- SQL の場合\nSELECT AI_COMPLETE('claude-4-sonnet', 'Snowflakeの特徴を50字以内で教えてください。') AS RESPONSE;",
   "execution_count": null
  },
  {
   "cell_type": "markdown",
   "id": "bdba1051-3899-409d-8468-de33d3344757",
   "metadata": {
    "name": "cell8",
    "collapsed": false
   },
   "source": "Python で AI_COMPLETE 関数を試す"
  },
  {
   "cell_type": "code",
   "id": "630c2b98-903e-4fe3-afe9-e7bebecf15c3",
   "metadata": {
    "language": "python",
    "name": "_0_2",
    "collapsed": false
   },
   "outputs": [],
   "source": "from snowflake.snowpark.context import get_active_session\nfrom snowflake.snowpark.functions import ai_complete \n\nsession = get_active_session()\ndf = session.range(1).select(\n    ai_complete('snowflake-arctic', 'Snowflakeの特徴を50字以内で教えてください。').alias('response')\n)\ndf\n",
   "execution_count": null
  },
  {
   "cell_type": "markdown",
   "id": "960fecb2-88f8-4313-89a1-b7888525a501",
   "metadata": {
    "name": "cell13",
    "collapsed": false
   },
   "source": "AI_CLASSIFY 関数によるマルチラベル分類"
  },
  {
   "cell_type": "code",
   "id": "0730613e-548d-4763-af64-acd5b5f7c6d8",
   "metadata": {
    "language": "sql",
    "name": "cell9"
   },
   "outputs": [],
   "source": "SELECT \n    AI_CLASSIFY(\n        '高速道路で前の車に追突してしまいました。相手にケガはありませんが車両に損傷があります。',  -- 分類するテキスト\n        ['事故報告', '保険料問い合わせ', '契約手続き']  -- 分類カテゴリのリスト\n    ) as classification;",
   "execution_count": null
  },
  {
   "cell_type": "markdown",
   "id": "77072c86-b220-4391-b509-62a5404b2499",
   "metadata": {
    "name": "cell15",
    "collapsed": false
   },
   "source": "AI_SIMILARITY 関数による類似度計算"
  },
  {
   "cell_type": "code",
   "id": "a2ff9f16-0150-4943-a215-d4cafde6b29b",
   "metadata": {
    "language": "sql",
    "name": "cell12"
   },
   "outputs": [],
   "source": "SELECT \n    '月々の保険料はいくらですか' as text1,\n    '保険料の支払い方法を教えてください' as text2,\n    AI_SIMILARITY('月々の保険料はいくらですか', '保険料の支払い方法を教えてください') as similarity_score;",
   "execution_count": null
  },
  {
   "cell_type": "markdown",
   "id": "bc922099-05fa-4db6-966a-8236ad1ae8d8",
   "metadata": {
    "name": "cell25",
    "collapsed": false
   },
   "source": "AI_FILTER 関数で事故対応後のフィードバックのポジネガフィルタリング"
  },
  {
   "cell_type": "code",
   "id": "b6e34ca1-c612-4392-9162-5236138a47a5",
   "metadata": {
    "language": "sql",
    "name": "cell14"
   },
   "outputs": [],
   "source": "\n-- サンプルテーブル定義（自動車保険の顧客フィードバック）\nCREATE OR REPLACE TEMPORARY TABLE INSURANCE_FEEDBACK (\n    feedback_id INT,\n    customer_id INT,\n    feedback_text STRING,\n    feedback_date DATE\n);\n\n-- サンプルデータ挿入\nINSERT INTO INSURANCE_FEEDBACK VALUES\n(1, 1001, '事故対応が迅速で、担当者の対応も丁寧でした。安心して任せることができました。', '2024-01-15'),\n(2, 1002, '保険料が他社と比べて高いと感じます。割引制度をもっと充実させてほしいです。', '2024-01-20'),\n(3, 1003, 'ロードサービスを利用しましたが、到着が遅く困りました。改善をお願いします。', '2024-01-25'),\n(4, 1004, '契約手続きがスムーズで、オンラインで簡単に完了できて良かったです。', '2024-02-01'),\n(5, 1005, '事故の示談交渉で納得のいかない結果でした。もう少し親身になってほしかった。', '2024-02-05'),\n(6, 1006, '24時間サポートがあるので安心です。深夜の事故でもすぐに対応してもらえました。', '2024-02-10'),\n(7, 1007, '保険金の支払いが遅いです。手続きをもっと簡素化してください。', '2024-02-15'),\n(8, 1008, 'アプリが使いやすく、事故報告も簡単にできました。デジタル化が進んでいて良いです。', '2024-02-20'),\n(9, 1009, 'カスタマーサポートの電話がつながりにくいです。回線を増やしてほしい。', '2024-02-25'),\n(10, 1010, '等級制度について分かりやすく説明してもらえました。担当者の知識が豊富で助かりました。', '2024-03-01');\n\n-- AI_FILTER関数による条件フィルタリング（事故対応について言及しているフィードバック）\nSELECT \n    feedback_id,\n    feedback_text,\n    AI_FILTER(CONCAT('この顧客フィードバックにポジティブな評価が含まれているか？: ', feedback_text)) as is_positive_feedback\nFROM INSURANCE_FEEDBACK\nWHERE AI_FILTER(CONCAT('事故対応について言及されているか？: ', feedback_text)) = TRUE\nLIMIT 10;",
   "execution_count": null
  },
  {
   "cell_type": "markdown",
   "id": "25c422cd-6694-4225-a99e-445fd2f478eb",
   "metadata": {
    "name": "cell23",
    "collapsed": false
   },
   "source": "AI_AGG 関数で全体のサービス満足度要約"
  },
  {
   "cell_type": "code",
   "id": "2c4f496a-82c3-43ce-ad2e-d4184224432b",
   "metadata": {
    "language": "sql",
    "name": "cell16"
   },
   "outputs": [],
   "source": "SELECT \n    AI_AGG(\n        feedback_text, \n        'サービス全般に関する満足度について簡単に要約してください'\n    ) as overall_service_insights\nFROM INSURANCE_FEEDBACK;",
   "execution_count": null
  },
  {
   "cell_type": "markdown",
   "id": "8e867635-d533-48c0-bd07-847b569ed7fa",
   "metadata": {
    "name": "AI_EXTRACT",
    "collapsed": false
   },
   "source": "## 1. LLM の機能を試す"
  },
  {
   "cell_type": "markdown",
   "id": "428193ec-ce0d-49bd-8ab1-894b0f8f9f2a",
   "metadata": {
    "name": "cell17",
    "collapsed": false
   },
   "source": "![img](https://lh3.googleusercontent.com/pw/AP1GczOsDabpXc1oDa23mXAvH6K_hkITlrTuNVy9qTbOY4sXZJDjEHQgbIm6Z7LXnvpflVCjCmjhB7mIqHkydFWJDOGuvHkEUywuTcp3ULLlqbiELYtUe-VH0NA7O7y-ibmNeo-izQhIYyLKbC65gNXDZJmS=w1602-h896-s-no-gm?authuser=0)"
  },
  {
   "cell_type": "markdown",
   "id": "5b5df44d-08bc-403f-bb13-c0c1850ab365",
   "metadata": {
    "name": "cell58",
    "collapsed": false
   },
   "source": "## 1.2 保険金請求書のデータを構造化データへ変換\n\n[サンプルデータ](https://www.sompo-japan.co.jp/-/media/SJNK/files/covenanter/acontact/support/transportins/contents3/FORM_1.pdf?la=ja-JP)を利用\n\n![img](https://lh3.googleusercontent.com/pw/AP1GczNM1fOPqa0dZ1ulQjNzNxz-DJWDebuYy3tlcimN_f_fT4qWTXkAosM8NotOnyJM4fzL4Mlj5o00SbEr-Bmr4LZ2WBVf2DWzXB7S4d7M6rEOYeS-Xp5P1K1Q4xEI-bmPK9z6UuRx2FiBa3EgEX0xTJgJ=w896-h1229-s-no-gm?authuser=0)"
  },
  {
   "cell_type": "code",
   "id": "4637811e-c75e-417a-9914-826188767658",
   "metadata": {
    "language": "sql",
    "name": "cell4"
   },
   "outputs": [],
   "source": "-- テキスト抽出\nCREATE OR REPLACE TABLE handson.car_insurance.extract_table AS\nSELECT\n  relative_path AS file_name,\n  AI_EXTRACT(\n    file => TO_FILE('@handson.car_insurance.car_insurance_stage', relative_path),\n    responseFormat => [\n      ['accident_response', '損害貨物への対応は何ですか？'],\n      ['name',      '氏名は何ですか？'],\n      ['registration_number', '登録番号(ナンバープレート)は何ですか？'],\n      ['security_number', '証券番号は何ですか？'],\n      ['accident_cause',       '事故の原因は何ですか？'],\n      ['billing_date',  '請求日はいつですか？']\n    ]\n  ) AS document_extracts\nFROM DIRECTORY(@handson.car_insurance.car_insurance_stage);\n",
   "execution_count": null
  },
  {
   "cell_type": "code",
   "id": "8d0a7b49-e924-48f3-8ea7-efae356c98fc",
   "metadata": {
    "language": "sql",
    "name": "cell62"
   },
   "outputs": [],
   "source": "SELECT * FROM handson.car_insurance.extract_table;",
   "execution_count": null
  },
  {
   "cell_type": "code",
   "id": "d2833b97-5c06-49fb-bde7-03239a1ee996",
   "metadata": {
    "language": "sql",
    "name": "cell63"
   },
   "outputs": [],
   "source": "CREATE OR REPLACE TABLE car_claim_form AS\nWITH long AS (\n  SELECT\n      t.file_name,\n      f.value::string AS field_name,\n      NULLIF(GET(t.document_extracts:response, f.value)::string, 'None') AS field_value\n  FROM handson.car_insurance.extract_table t,\n       LATERAL FLATTEN(input => OBJECT_KEYS(t.document_extracts:response)) f\n)\nSELECT *\nFROM long\nPIVOT (\n  MAX(field_value) FOR field_name\n  IN ('accident_response', 'name', 'registration_number', 'security_number', 'accident_cause', 'billing_date')\n) AS p (file_name, accident_response, name, registration_number, security_number, accident_cause, billing_date);",
   "execution_count": null
  },
  {
   "cell_type": "code",
   "id": "19c59b54-ffe0-406b-8bb5-91590709dbda",
   "metadata": {
    "language": "sql",
    "name": "cell5"
   },
   "outputs": [],
   "source": "SELECT * FROM car_claim_form;",
   "execution_count": null
  },
  {
   "cell_type": "markdown",
   "id": "2b3092d9-7893-4c7d-8130-f1691327cc1d",
   "metadata": {
    "name": "RAG",
    "collapsed": false
   },
   "source": "## 2.1 ドライバー保険の約款データを使ったRAGの構築\n\n![img](https://lh3.googleusercontent.com/pw/AP1GczOySI9gnWJCcNzeBcO-Yf-c1iril-Hd4xMllM_WcEZT0nzxH7PyDeuQmj7Q-CYNeWyS0h0WgYMWTsr4Q5cVjjuzjzRgtKNwa4pQ_vWC1dxEzX8_tagVAH-SnrJDl0p89HaBpLwK5PzGj0W9zpiVxglE=w1602-h900-s-no-gm?authuser=0)"
  },
  {
   "cell_type": "markdown",
   "id": "9a7f72c8-5c3c-4dba-8f24-a96ba4db6488",
   "metadata": {
    "name": "cell34",
    "collapsed": false
   },
   "source": "### ドライバー保険の約款を保管するステージの作成"
  },
  {
   "cell_type": "code",
   "id": "9e132a1a-6e81-44ea-8557-da1350577744",
   "metadata": {
    "language": "sql",
    "name": "cell35"
   },
   "outputs": [],
   "source": "CREATE OR REPLACE STAGE handson.car_insurance.terms_and_conditions\n    DIRECTORY = (ENABLE = TRUE)\n    ENCRYPTION = (TYPE = 'SNOWFLAKE_SSE');",
   "execution_count": null
  },
  {
   "cell_type": "markdown",
   "id": "28dc621f-aa58-48bc-8d50-fcc392e043c2",
   "metadata": {
    "name": "cell32",
    "collapsed": false
   },
   "source": "### ドライバー保険の約款をアップロード（GUIで実施）\n\n1. データ -> データを追加を選択\n2. タイルを選択: テーブルにデータをロード"
  },
  {
   "cell_type": "markdown",
   "id": "983df101-d008-404a-94cd-2d5fd5129747",
   "metadata": {
    "name": "parse_doc",
    "collapsed": false
   },
   "source": "### PARSE_DOCUMENT を使った PDF データの抽出\n- PARSE_DOCUMENT OCR （デフォルト） モードは、テキスト量の多いドキュメントからのテキスト抽出に最適化されています。これは、強力なセマンティック構造を持たないドキュメントから、迅速、簡単、かつ効果的にテキストを抽出するために推奨されるオプションです。\n\n- PARSE_DOCUMENT LAYOUT （オプション） モードは、テーブルのようなテキストとレイアウト要素の抽出に最適化されています。これは、検索情報システムや大規模言語モデル（LLM）推論を最適化し、ドキュメントナレッジベースのコンテキストを改善するために推奨されるオプションです。たとえば、 LAYOUT 要素を使用してテキストセクションを分離し、より的を絞ったエンティティ抽出作業を行うことができます。\n\n[ドキュメント](https://docs.snowflake.com/ja/user-guide/snowflake-cortex/parse-document) (最新の情報は英語ドキュメントを参照)\n\n![img](https://lh3.googleusercontent.com/pw/AP1GczNO_lTZjDwPtnGpwFZrImzwRYhs3W1TbU1otTqW55cdEb3v8qZvXBvseiFDUS00AdQ0Lilzc25TQ5kM9mma9jHbYtjUILW0wJhHJ9VxcJQuTyBK0jr09P0jelBU6C0b-pQNbdjaQ9smOWreI7itusRB=w1602-h896-s-no-gm?authuser=0)"
  },
  {
   "cell_type": "code",
   "id": "d363e73d-44fb-49ba-bdf5-950633fe32c7",
   "metadata": {
    "language": "sql",
    "name": "cell19"
   },
   "outputs": [],
   "source": "CREATE OR REPLACE TABLE handson.car_insurance.parsed_terms_and_conditions AS SELECT\n\nrelative_path, \nBUILD_STAGE_FILE_URL('@handson.car_insurance.terms_and_conditions', relative_path) as file_url,\n TO_File(BUILD_STAGE_FILE_URL('@handson.car_insurance.terms_and_conditions', relative_path) ) file_object,\n    SNOWFLAKE.CORTEX.PARSE_DOCUMENT(\n                                @handson.car_insurance.terms_and_conditions,\n                                relative_path,\n                                {'mode':'LAYOUT'}\n                                ):content::string as Content\nfrom directory(@handson.car_insurance.terms_and_conditions) \nwhere relative_path ilike '%.pdf';",
   "execution_count": null
  },
  {
   "cell_type": "code",
   "id": "30b74fb0-e433-4f6a-8810-fa631770d650",
   "metadata": {
    "language": "sql",
    "name": "cell21"
   },
   "outputs": [],
   "source": "SELECT * FROM handson.car_insurance.parsed_terms_and_conditions;",
   "execution_count": null
  },
  {
   "cell_type": "code",
   "id": "44823b99-c9d3-406a-8606-ac82066d3e13",
   "metadata": {
    "language": "sql",
    "name": "cell22"
   },
   "outputs": [],
   "source": "SELECT\n    relative_path,\n    file_url,\n    REGEXP_SUBSTR(relative_path, '[^/]+$') as title, -- Extract filename as title\n    content\nFROM handson.car_insurance.parsed_terms_and_conditions",
   "execution_count": null
  },
  {
   "cell_type": "markdown",
   "id": "314e0d07-d52f-4edc-bd4b-04bee37fde55",
   "metadata": {
    "name": "CHUNK",
    "collapsed": false
   },
   "source": "SPLIT_TEXT_RECURSIVE_CHARACTER を使ったチャンクの作成\n\n本ハンズオンでは以下を設定\n- 分割対象: contentカラムのテキストを分割\n- フォーマット: 'markdown' - ヘッダー、コードブロック、テーブルで分割\n- チャンクサイズ: 2500文字 - 各チャンクの最大文字数\n- 重複サイズ: 500文字 - 隣接するチャンク間で重複させる文字数\n- 処理結果: 2500文字以下のチャンクに分割され、500文字ずつ重複\n\n[ドキュメント](https://docs.snowflake.com/en/sql-reference/functions/split_text_recursive_character-snowflake-cortex) (最新の情報は英語ドキュメントを参照)\n\n![img](https://lh3.googleusercontent.com/pw/AP1GczOukcbNVYHh_JLAbGE2C6aYZZZWDbeJ7bxF7KXWxMMV3_f6AVOTzfuqVtH_rdiEqQgBy8aiXdBxgPmCPMUYBWYUmsdf_B9kp3Cppcj9ooh2rhX_0AC2NEI2ROWGpXVnTEIrkAe5v0eOjb7kGgwJVfli=w1602-h885-s-no-gm?authuser=0)"
  },
  {
   "cell_type": "code",
   "id": "5b75c697-cab5-4b51-84f6-cba57e6a4c22",
   "metadata": {
    "language": "sql",
    "name": "cell55"
   },
   "outputs": [],
   "source": "-- チャンク分割用の新しいテーブルの作成\nCREATE OR REPLACE TABLE handson.car_insurance.parsed_terms_and_conditions_chunks (\n    relative_path VARCHAR,\n    file_url VARCHAR,\n    title VARCHAR,\n    CHUNK VARCHAR\n);\n\n-- 元のテーブルからデータを取得してチャンク分割\nINSERT INTO handson.car_insurance.parsed_terms_and_conditions_chunks (relative_path, file_url, title, CHUNK)\nSELECT\n    relative_path,\n    file_url,\n    REGEXP_SUBSTR(relative_path, '[^/]+$') as title, \n    c.value AS CHUNK\nFROM\n    handson.car_insurance.parsed_terms_and_conditions_2,  -- 実際に作成されたテーブル名\n    LATERAL FLATTEN( input => SNOWFLAKE.CORTEX.SPLIT_TEXT_RECURSIVE_CHARACTER (\n        content,\n        'markdown',\n        2500,\n        500\n    )) c;",
   "execution_count": null
  },
  {
   "cell_type": "markdown",
   "id": "bb04a2c4-0ccc-4e9c-b31c-161d3fc1a0f0",
   "metadata": {
    "name": "cell2",
    "collapsed": false
   },
   "source": "チャンクデータの確認"
  },
  {
   "cell_type": "code",
   "id": "239fbf4b-d6a2-4d1b-a08d-056c93e929dc",
   "metadata": {
    "language": "sql",
    "name": "cell56"
   },
   "outputs": [],
   "source": "SELECT * FROM handson.car_insurance.parsed_terms_and_conditions_chunks;",
   "execution_count": null
  },
  {
   "cell_type": "markdown",
   "id": "2e427b20-46f9-4ec8-834e-f8b1afe84031",
   "metadata": {
    "collapsed": false,
    "name": "Search",
    "resultHeight": 91
   },
   "source": "### Cortex Search を利用しコンテキストを理解可能なサービスを作成\n\n![img](https://lh3.googleusercontent.com/pw/AP1GczN33sZa58DW5WZnqcjAiLBgFXg2SH1qKlMXXCfNLGADZjix7BYwIYAQ8GI_vssc4Q8XnyevRP0lbhh-nwsDTzUeR05BjvJh9mjRvIZmBnpv0QllSabu7W49EHtS31LBO3UHlKtdSThF3XG6Na4re_DL=w1602-h900-s-no-gm?authuser=0)"
  },
  {
   "cell_type": "code",
   "id": "b24ced01-3ec3-48a4-b7ef-85b827603e6f",
   "metadata": {
    "language": "sql",
    "name": "cell20"
   },
   "outputs": [],
   "source": "CREATE OR REPLACE CORTEX SEARCH SERVICE handson.car_insurance.terms_and_conditions_service\n    ON chunk\n    ATTRIBUTES relative_path, file_url, title\n    WAREHOUSE = handson_wh\n    TARGET_LAG = '30 day'\n    EMBEDDING_MODEL = 'snowflake-arctic-embed-l-v2.0'\n    AS (\n        SELECT\n            relative_path,\n            file_url,\n            title,\n            chunk\n        FROM handson.car_insurance.parsed_terms_and_conditions_chunks\n    );",
   "execution_count": null
  },
  {
   "cell_type": "markdown",
   "id": "16b27491-2307-4adb-912b-3160dd33ed29",
   "metadata": {
    "collapsed": false,
    "name": "cell24",
    "resultHeight": 41
   },
   "source": [
    "アカウント内で作成された Cortex Search サービスを確認"
   ]
  },
  {
   "cell_type": "code",
   "execution_count": null,
   "id": "ab685a1c-6c72-4c82-98de-a40181494eff",
   "metadata": {
    "collapsed": false,
    "language": "sql",
    "name": "cell10",
    "resultHeight": 427
   },
   "outputs": [],
   "source": [
    "SHOW CORTEX SEARCH SERVICES IN ACCOUNT;"
   ]
  },
  {
   "cell_type": "code",
   "id": "fb37f93d-debe-44d9-a558-b3c472c65faa",
   "metadata": {
    "language": "sql",
    "name": "cell11"
   },
   "outputs": [],
   "source": "SELECT PARSE_JSON(\n  SNOWFLAKE.CORTEX.SEARCH_PREVIEW(\n      'handson.car_insurance.terms_and_conditions_service',\n      '{\n         \"query\": \"事故が発生した場合の対応手順を教えてください。\",\n         \"columns\": [\"chunk\", \"title\", \"file_url\"],\n         \"limit\": 5\n      }'\n  )\n)['results'] as results;",
   "execution_count": null
  },
  {
   "cell_type": "code",
   "id": "f0dc4afb-33e7-4f0f-84b4-b2176d81e356",
   "metadata": {
    "language": "sql",
    "name": "cell7"
   },
   "outputs": [],
   "source": "SELECT \n    '事故対応手順検索' as search_type,\n    (results.index + 1) as result_rank,\n    results.value['title']::string as document_title,\n    results.value['chunk']::string as content,\n    LENGTH(results.value['chunk']::string) as content_length,\n    -- results.value['file_url']::string as source_file_url\nFROM (\n    SELECT \n        PARSE_JSON(\n            SNOWFLAKE.CORTEX.SEARCH_PREVIEW(\n                'handson.car_insurance.terms_and_conditions_service',\n                '{\n                    \"query\": \"事故が発生した場合の対応手順を教えてください。\",\n                    \"columns\": [\"chunk\", \"title\", \"file_url\"],\n                    \"limit\": 5\n                }'\n            )\n        )['results'] as results_array\n),\nLATERAL FLATTEN(input => results_array) as results\nORDER BY results.index;",
   "execution_count": null
  },
  {
   "cell_type": "markdown",
   "id": "e3f30fc1-b13d-42a4-8730-d74387df1ddd",
   "metadata": {
    "name": "Analyst",
    "collapsed": false
   },
   "source": "## Text-to-SQLで自動車保険ビジネスにおける様々な部門の課題解決に直結するインサイトの提供\n- SQLでセマンティックビューを作成し、GUIで動作を確認する\n\n![img](https://lh3.googleusercontent.com/pw/AP1GczOO9VK2oFroeFm8PYKnGhGAL7W2xXdiz_jjgYEgsX_iczpUI_DxnzUeTWuEk0vjNWS5BAbHBsl5TaGC-c__lyNA0uAvHEgD01eg1nq9_N0rB0ZxGl2T4x5KdxR9E4KS3RSCtS2qqlakVh4M_6-8KZZB=w1602-h895-s-no-gm?authuser=0)"
  },
  {
   "cell_type": "markdown",
   "id": "4bef884f-48f8-4d29-8e54-c16572f15e67",
   "metadata": {
    "name": "cell1",
    "collapsed": false
   },
   "source": "![img](https://lh3.googleusercontent.com/pw/AP1GczPaGaGvSm2iGb09AHpaDREOX0-4Ep37I944iC6bOhrYb7pTQFexIPKLVOPNLVSOLQ8oSkF3G36IUSSH741lcMoyGwXwuXvSbnY0GSnIoZFbupj1kSWs03k99BawsxcWtCH3y2VtvAUIcfRC9epwCnhW=w1634-h920-s-no-gm?authuser=0)"
  },
  {
   "cell_type": "code",
   "id": "3a198983-c2e5-41a9-9f47-2c67341c33bc",
   "metadata": {
    "language": "sql",
    "name": "cell6"
   },
   "outputs": [],
   "source": "CREATE OR REPLACE SEMANTIC VIEW INSURANCE_CLAIMS_SEMANTIC_VIEW\n    tables (\n        CLAIMS as CLAIMS primary key (CLAIM_ID) \n            with synonyms=('保険金請求','請求','事故') \n            comment='保険金請求に関する中心的なファクトテーブル',\n        POLICIES as POLICIES primary key (POLICY_ID) \n            with synonyms=('保険契約','契約','ポリシー') \n            comment='保険契約者と車両に関するディメンションテーブル',\n        REPAIR_SHOPS as REPAIR_SHOPS primary key (SHOP_ID) \n            with synonyms=('修理工場','工場','パートナー工場') \n            comment='提携している修理工場に関するディメンションテーブル',\n        REPAIR_ORDERS as REPAIR_ORDERS primary key (ORDER_ID) \n            with synonyms=('修理指示','修理明細','作業指示') \n            comment='各請求に対する修理作業の明細データ'\n    )\n    relationships (\n        CLAIMS_TO_POLICIES as CLAIMS(POLICY_ID) references POLICIES(POLICY_ID),\n        CLAIMS_TO_SHOPS as CLAIMS(REPAIR_SHOP_ID) references REPAIR_SHOPS(SHOP_ID),\n        ORDERS_TO_CLAIMS as REPAIR_ORDERS(CLAIM_ID) references CLAIMS(CLAIM_ID)\n    )\n    facts (\n        CLAIMS.claim_record as 1 \n            comment='請求レコード数。件数のカウントに使用',\n        CLAIMS.approved_cost_yen as APPROVED_COST_YEN \n            comment='承認された修理費用（円）',\n        CLAIMS.estimate_cost_yen as ESTIMATE_COST_YEN \n            comment='見積もり修理費用（円）',\n        CLAIMS.paid_to_date_yen as PAID_TO_DATE_YEN \n            comment='支払済み金額（円）',\n        POLICIES.policy_record as 1 \n            comment='契約レコード数。件数のカウントに使用',\n        POLICIES.annual_premium_yen as ANNUAL_PREMIUM_YEN \n            comment='年間保険料（円）',\n        REPAIR_ORDERS.repair_cost as LINE_TOTAL_AFTER_ADJ_YEN\n            comment='修理明細の合計金額（調整後、円）',\n        REPAIR_ORDERS.labor_hours as LABOR_HOURS\n            comment='作業時間（時間）'\n    )\n    dimensions (\n        -- CLAIMS テーブルのディメンション\n        CLAIMS.incident_date as INCIDENT_DATE \n            with synonyms=('事故日','発生日') \n            comment='事故が発生した日付',\n        CLAIMS.incident_year as YEAR(incident_date) \n            with synonyms=('事故年','発生年') \n            comment='事故が発生した年',\n        CLAIMS.incident_month as MONTH(incident_date) \n            with synonyms=('事故月','発生月') \n            comment='事故が発生した月',\n        CLAIMS.claim_status as CLAIM_STATUS \n            with synonyms=('請求ステータス','ステータス') \n            comment='保険金請求の現在のステータス (Open, Approved, Paid, Denied)',\n        CLAIMS.loss_cause as LOSS_CAUSE \n            with synonyms=('事故原因','原因') \n            comment='損害の原因 (Collision, Weather, Theftなど)',\n        CLAIMS.severity as SEVERITY \n            with synonyms=('損害の大きさ','深刻度') \n            comment='損害の深刻度 (Minor, Moderate, Severe, Total Loss)',\n        CLAIMS.incident_prefecture as INCIDENT_PREFECTURE \n            with synonyms=('事故発生都道府県','事故現場の都道府県') \n            comment='事故が発生した都道府県',\n        CLAIMS.fraud_score as FRAUD_SCORE\n            with synonyms=('不正スコア', '詐欺スコア')\n            comment='請求の不正行為の可能性を示すスコア',\n        -- POLICIES テーブルのディメンション\n        POLICIES.vehicle_make as VEHICLE_MAKE \n            with synonyms=('自動車メーカー','メーカー') \n            comment='車両のメーカー',\n        POLICIES.vehicle_model as VEHICLE_MODEL\n            with synonyms=('車種','モデル')\n            comment='車両のモデル名',\n        POLICIES.vehicle_age_band as VEHICLE_AGE_BAND \n            with synonyms=('車齢帯','車両年式') \n            comment='車両の年式帯 (Newer, Mid, Older)',\n        POLICIES.vehicle_use as VEHICLE_USE\n            with synonyms=('車両用途','使用目的')\n            comment='車両の主な使用目的 (Personal, Commute, Commercial)',\n        POLICIES.driver_age as DRIVER_AGE\n            with synonyms=('運転者年齢','ドライバー年齢')\n            comment='契約時の運転者の年齢',\n        POLICIES.policy_status as POLICY_STATUS \n            with synonyms=('契約ステータス') \n            comment='保険契約のステータス (Active, Lapsed, Cancelled)',\n        POLICIES.registered_prefecture as REGISTERED_PREF\n            with synonyms=('登録都道府県')\n            comment='車両が登録されている都道府県',\n        -- REPAIR_SHOPS テーブルのディメンション\n        REPAIR_SHOPS.shop_name as SHOP_NAME \n            with synonyms=('修理工場名','工場名') \n            comment='修理工場の名称',\n        REPAIR_SHOPS.shop_prefecture as PREFECTURE \n            with synonyms=('工場都道府県','工場所在地') \n            comment='修理工場の都道府県',\n        REPAIR_SHOPS.partner_tier as PARTNER_TIER \n            with synonyms=('パートナーランク','ティア') \n            comment='修理工場のパートナーランク (A, B, C)',\n        REPAIR_SHOPS.shop_rating as RATING\n            with synonyms=('工場評価','評価')\n            comment='修理工場の評価スコア',\n        -- REPAIR_ORDERS テーブルのディメンション\n        REPAIR_ORDERS.work_start_date as WORK_START_DATE\n            with synonyms=('修理開始日')\n            comment='修理作業の開始日',\n        REPAIR_ORDERS.work_end_date as WORK_END_DATE\n            with synonyms=('修理完了日')\n            comment='修理作業の完了日'\n    )\n    metrics (\n        CLAIMS.TOTAL_CLAIMS as COUNT(claims.claim_record) \n            with synonyms=('総請求件数','合計請求件数')\n            comment='すべての保険金請求の合計件数',\n        CLAIMS.TOTAL_APPROVED_COST as SUM(claims.approved_cost_yen) \n            with synonyms=('総承認費用','合計承認費用')\n            comment='承認された修理費用の合計額',\n        CLAIMS.AVERAGE_APPROVED_COST as AVG(claims.approved_cost_yen) \n            with synonyms=('平均承認費用')\n            comment='承認された修理費用の平均額',\n        CLAIMS.TOTAL_PAID_AMOUNT as SUM(claims.paid_to_date_yen)\n            with synonyms=('総支払額','合計支払額')\n            comment='支払われた保険金の合計額',\n        POLICIES.TOTAL_POLICIES as COUNT(policies.policy_record) \n            with synonyms=('総契約件数','合計契約件数')\n            comment='保険契約の総件数',\n        POLICIES.TOTAL_PREMIUM_REVENUE as SUM(policies.annual_premium_yen) \n            with synonyms=('総保険料収入','合計保険料')\n            comment='年間保険料の合計額',\n        REPAIR_ORDERS.TOTAL_REPAIR_COST as SUM(repair_orders.repair_cost)\n            with synonyms=('総修理費用','合計修理費用')\n            comment='修理にかかった費用の総額'\n    )\n    COMMENT='自動車保険の契約、請求、修理に関する分析のためのセマンティックビュー';",
   "execution_count": null
  },
  {
   "cell_type": "markdown",
   "id": "7a5dca30-d68a-4236-8ac1-d5a6ebb132bd",
   "metadata": {
    "name": "Agent",
    "collapsed": false
   },
   "source": "## 作成したオブジェクト(Cortex Search, Cortex Analyst)を使って Cortex Agent を作成する\n- GUI で実施\n\n![img](https://lh3.googleusercontent.com/pw/AP1GczMrL3z5ohe70vavzro_T5d76yQiLwy7zKxUy2lB-UbQXxV_hi19CeRP8EtCV7Ih7ufIPo6MWMhki8U0CclmiWaIfRc13PeNOshMx9Z7aP9Vi0D7u8spBxJas5CiOTM6_DAqL8GpdSdYK9mEnFJ_bapq=w1602-h900-s-no-gm?authuser=0)"
  },
  {
   "cell_type": "code",
   "id": "08f4d227-46b1-49a3-b3f3-475097d3bc8b",
   "metadata": {
    "language": "sql",
    "name": "cell18"
   },
   "outputs": [],
   "source": "CREATE OR REPLACE AGENT snowflake_intelligence.agents.driver_insurance_chatbot_agent\nWITH PROFILE='{ \"display_name\": \"driver_insurance_agent\" }'\n    COMMENT=$$ 自動車保険に関する質問に回答するエージェントです。 $$\nFROM SPECIFICATION $$\n{\n  \"models\": {\n    \"orchestration\": \"\"\n  },\n  \"instructions\": {\n    \"response\": \"あなたは自動車保険に関するのデータマートにアクセスできるデータアナリストです。ユーザーが日付範囲を指定しない場合は、2025年と仮定してください。すべてのドメインからのデータを活用して、ユーザーの質問を分析し回答してください。可能であれば視覚化を提供してください。トレンドラインは線グラフをデフォルトとし、カテゴリは棒グラフを使用してください。\",\n    \"orchestration\": \"既知のエンティティに対してcortex searchを使用し、詳細な分析のためにcortex analystに結果を渡してください。\",\n    \"sample_questions\": [\n      {\n        \"question\": \"事故が発生した都道府県ごとに、平均承認費用を比較して、高い順に並べて可視化してください\"\n      }\n    ]\n  },\n  \"tools\": [\n    {\n      \"tool_spec\": {\n        \"type\": \"cortex_analyst_text_to_sql\",\n        \"name\": \"DRIVER INSURANCE SYSTEM DATAMART\",\n        \"description\": \"お客様の自動車保険に関するデータをクエリすることをユーザーに許可します。\"\n      }\n    },\n    {\n      \"tool_spec\": {\n        \"type\": \"cortex_search\",\n        \"name\": \"DRIVER INSURANCE SEARCH\",\n        \"description\": \"このツールはドライバー保険の約款データを検索するために使用します。\"\n      }\n    }\n  ],\n  \"tool_resources\": {\n    \"DRIVER INSURANCE SYSTEM DATAMART\": {\n      \"semantic_view\": \"handson.car_insurance.insurance_claims_semantic_view\"\n    },\n    \"DRIVER INSURANCE SEARCH\": {\n      \"id_column\": \"file_url\",\n      \"max_results\": 5,\n      \"name\": \"handson.car_insurance.terms_and_conditions_service\",\n      \"title_column\": \"title\"\n    }\n  }\n}\n$$;",
   "execution_count": null
  },
  {
   "cell_type": "markdown",
   "id": "ba8221d4-cc5b-436d-8b8e-e26df67e59be",
   "metadata": {
    "name": "Intelligence",
    "collapsed": false
   },
   "source": "## Snowflake Intelligence を使った AI Agent チャットボットの作成\n- GUIで作成\n\n![img](https://lh3.googleusercontent.com/pw/AP1GczM9D1krNnRYylHontiWJ8hSQdf7dmyH5F4ej4_3SDZCTKNZjStUnKNm7_OFGyMi3XyCd05xjM5_VSdRfsjfaLt2n3ckxVP6EbtlkKUFFrZXoRM-ZW7TyUTeXaaY_0ZzHiDJT88P1J4yoL3b-sA-3Hke=w1602-h897-s-no-gm?authuser=0)"
  }
 ]
}